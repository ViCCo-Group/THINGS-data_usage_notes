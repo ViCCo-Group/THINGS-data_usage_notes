{
 "cells": [
  {
   "cell_type": "markdown",
   "metadata": {},
   "source": [
    "# THINGS-fMRI usage notes"
   ]
  },
  {
   "cell_type": "markdown",
   "metadata": {},
   "source": [
    "For a detailed description of the data and the procedures that generated it, see [the THINGS-data preprint](https://doi.org/10.1101/2022.07.22.501123)."
   ]
  },
  {
   "cell_type": "code",
   "execution_count": 49,
   "metadata": {},
   "outputs": [],
   "source": [
    "from os.path import join as pjoin\n",
    "import numpy as np\n",
    "import pandas as pd\n",
    "from nilearn.masking import apply_mask, unmask\n",
    "from nilearn.plotting import plot_epi"
   ]
  },
  {
   "cell_type": "code",
   "execution_count": 39,
   "metadata": {},
   "outputs": [],
   "source": [
    "# Let's assume you've downloaded the THINGS-fMRI data to this directory\n",
    "basedir = '/Users/olivercontier/bigfri/openneuro/THINGS-data/THINGS-fMRI/derivatives'"
   ]
  },
  {
   "cell_type": "markdown",
   "metadata": {},
   "source": [
    "## Single trial responses"
   ]
  },
  {
   "cell_type": "markdown",
   "metadata": {},
   "source": [
    "The single trial responses are arguably the easiest way to analyze the THINGS-fMRI data. They contains the magnitude of the fMRI response to each stimulus in each voxel with a single number. The single trial responses are provided in two formats: a) In table format, b) in volumetric format."
   ]
  },
  {
   "cell_type": "markdown",
   "metadata": {},
   "source": [
    "### Table format"
   ]
  },
  {
   "cell_type": "markdown",
   "metadata": {},
   "source": [
    "Besides the fMRI response data, the table format contains metadata about each voxel (such as noise ceilings, pRF parameters, regions of interest) and about the stimulus (such as image file name, trial type, run and session). "
   ]
  },
  {
   "cell_type": "code",
   "execution_count": 38,
   "metadata": {},
   "outputs": [],
   "source": [
    "# let's assume you downloaded the single trial responses in table format to this directory \n",
    "betas_csv_dir = pjoin(basedir, 'betas_csv')\n",
    "\n",
    "# and that you're interested in the data for the first subject\n",
    "sub = '01'"
   ]
  },
  {
   "cell_type": "markdown",
   "metadata": {},
   "source": [
    "The `ResponseData.h5` files contain the actual single trial responses. Rows are voxels, columns are trials."
   ]
  },
  {
   "cell_type": "code",
   "execution_count": 30,
   "metadata": {},
   "outputs": [
    {
     "name": "stdout",
     "output_type": "stream",
     "text": [
      "Single trial response data\n"
     ]
    },
    {
     "data": {
      "text/html": [
       "<div>\n",
       "<style scoped>\n",
       "    .dataframe tbody tr th:only-of-type {\n",
       "        vertical-align: middle;\n",
       "    }\n",
       "\n",
       "    .dataframe tbody tr th {\n",
       "        vertical-align: top;\n",
       "    }\n",
       "\n",
       "    .dataframe thead th {\n",
       "        text-align: right;\n",
       "    }\n",
       "</style>\n",
       "<table border=\"1\" class=\"dataframe\">\n",
       "  <thead>\n",
       "    <tr style=\"text-align: right;\">\n",
       "      <th></th>\n",
       "      <th>voxel_id</th>\n",
       "      <th>0</th>\n",
       "      <th>1</th>\n",
       "      <th>2</th>\n",
       "      <th>3</th>\n",
       "      <th>4</th>\n",
       "      <th>5</th>\n",
       "      <th>6</th>\n",
       "      <th>7</th>\n",
       "      <th>8</th>\n",
       "      <th>...</th>\n",
       "      <th>9830</th>\n",
       "      <th>9831</th>\n",
       "      <th>9832</th>\n",
       "      <th>9833</th>\n",
       "      <th>9834</th>\n",
       "      <th>9835</th>\n",
       "      <th>9836</th>\n",
       "      <th>9837</th>\n",
       "      <th>9838</th>\n",
       "      <th>9839</th>\n",
       "    </tr>\n",
       "  </thead>\n",
       "  <tbody>\n",
       "    <tr>\n",
       "      <th>0</th>\n",
       "      <td>0</td>\n",
       "      <td>-0.089022</td>\n",
       "      <td>0.041923</td>\n",
       "      <td>0.169130</td>\n",
       "      <td>-0.075151</td>\n",
       "      <td>0.015963</td>\n",
       "      <td>-0.010098</td>\n",
       "      <td>-0.012468</td>\n",
       "      <td>0.084902</td>\n",
       "      <td>0.091878</td>\n",
       "      <td>...</td>\n",
       "      <td>0.024178</td>\n",
       "      <td>-0.029775</td>\n",
       "      <td>0.099759</td>\n",
       "      <td>0.006796</td>\n",
       "      <td>-0.044169</td>\n",
       "      <td>0.018878</td>\n",
       "      <td>-0.057514</td>\n",
       "      <td>0.055157</td>\n",
       "      <td>-0.036201</td>\n",
       "      <td>-0.068705</td>\n",
       "    </tr>\n",
       "    <tr>\n",
       "      <th>1</th>\n",
       "      <td>1</td>\n",
       "      <td>-0.062508</td>\n",
       "      <td>-0.037973</td>\n",
       "      <td>-0.009769</td>\n",
       "      <td>0.082478</td>\n",
       "      <td>0.056631</td>\n",
       "      <td>-0.015929</td>\n",
       "      <td>-0.027017</td>\n",
       "      <td>0.054912</td>\n",
       "      <td>0.017544</td>\n",
       "      <td>...</td>\n",
       "      <td>-0.071025</td>\n",
       "      <td>0.035286</td>\n",
       "      <td>0.066276</td>\n",
       "      <td>-0.092530</td>\n",
       "      <td>-0.074624</td>\n",
       "      <td>0.006528</td>\n",
       "      <td>0.005477</td>\n",
       "      <td>0.002302</td>\n",
       "      <td>0.074685</td>\n",
       "      <td>-0.096532</td>\n",
       "    </tr>\n",
       "    <tr>\n",
       "      <th>2</th>\n",
       "      <td>2</td>\n",
       "      <td>-0.070807</td>\n",
       "      <td>-0.019326</td>\n",
       "      <td>-0.019546</td>\n",
       "      <td>-0.060038</td>\n",
       "      <td>-0.024878</td>\n",
       "      <td>0.052750</td>\n",
       "      <td>0.163108</td>\n",
       "      <td>0.037861</td>\n",
       "      <td>-0.073247</td>\n",
       "      <td>...</td>\n",
       "      <td>0.045679</td>\n",
       "      <td>0.075059</td>\n",
       "      <td>-0.020386</td>\n",
       "      <td>-0.034966</td>\n",
       "      <td>-0.027783</td>\n",
       "      <td>0.011068</td>\n",
       "      <td>-0.025219</td>\n",
       "      <td>0.012350</td>\n",
       "      <td>0.029529</td>\n",
       "      <td>0.006157</td>\n",
       "    </tr>\n",
       "    <tr>\n",
       "      <th>3</th>\n",
       "      <td>3</td>\n",
       "      <td>0.006218</td>\n",
       "      <td>0.016355</td>\n",
       "      <td>-0.075845</td>\n",
       "      <td>-0.109495</td>\n",
       "      <td>-0.007062</td>\n",
       "      <td>0.144785</td>\n",
       "      <td>0.086463</td>\n",
       "      <td>-0.047257</td>\n",
       "      <td>0.011348</td>\n",
       "      <td>...</td>\n",
       "      <td>-0.050225</td>\n",
       "      <td>0.016627</td>\n",
       "      <td>0.083943</td>\n",
       "      <td>-0.038645</td>\n",
       "      <td>-0.014257</td>\n",
       "      <td>0.050435</td>\n",
       "      <td>0.032841</td>\n",
       "      <td>-0.036794</td>\n",
       "      <td>-0.000256</td>\n",
       "      <td>0.033482</td>\n",
       "    </tr>\n",
       "    <tr>\n",
       "      <th>4</th>\n",
       "      <td>4</td>\n",
       "      <td>-0.014344</td>\n",
       "      <td>-0.029792</td>\n",
       "      <td>0.136358</td>\n",
       "      <td>-0.118176</td>\n",
       "      <td>0.007145</td>\n",
       "      <td>0.036102</td>\n",
       "      <td>0.036816</td>\n",
       "      <td>0.015313</td>\n",
       "      <td>0.035015</td>\n",
       "      <td>...</td>\n",
       "      <td>-0.104036</td>\n",
       "      <td>-0.020143</td>\n",
       "      <td>0.063932</td>\n",
       "      <td>-0.080900</td>\n",
       "      <td>0.010575</td>\n",
       "      <td>-0.015148</td>\n",
       "      <td>-0.085487</td>\n",
       "      <td>0.118670</td>\n",
       "      <td>0.073392</td>\n",
       "      <td>-0.014972</td>\n",
       "    </tr>\n",
       "  </tbody>\n",
       "</table>\n",
       "<p>5 rows × 9841 columns</p>\n",
       "</div>"
      ],
      "text/plain": [
       "   voxel_id         0         1         2         3         4         5  \\\n",
       "0         0 -0.089022  0.041923  0.169130 -0.075151  0.015963 -0.010098   \n",
       "1         1 -0.062508 -0.037973 -0.009769  0.082478  0.056631 -0.015929   \n",
       "2         2 -0.070807 -0.019326 -0.019546 -0.060038 -0.024878  0.052750   \n",
       "3         3  0.006218  0.016355 -0.075845 -0.109495 -0.007062  0.144785   \n",
       "4         4 -0.014344 -0.029792  0.136358 -0.118176  0.007145  0.036102   \n",
       "\n",
       "          6         7         8  ...      9830      9831      9832      9833  \\\n",
       "0 -0.012468  0.084902  0.091878  ...  0.024178 -0.029775  0.099759  0.006796   \n",
       "1 -0.027017  0.054912  0.017544  ... -0.071025  0.035286  0.066276 -0.092530   \n",
       "2  0.163108  0.037861 -0.073247  ...  0.045679  0.075059 -0.020386 -0.034966   \n",
       "3  0.086463 -0.047257  0.011348  ... -0.050225  0.016627  0.083943 -0.038645   \n",
       "4  0.036816  0.015313  0.035015  ... -0.104036 -0.020143  0.063932 -0.080900   \n",
       "\n",
       "       9834      9835      9836      9837      9838      9839  \n",
       "0 -0.044169  0.018878 -0.057514  0.055157 -0.036201 -0.068705  \n",
       "1 -0.074624  0.006528  0.005477  0.002302  0.074685 -0.096532  \n",
       "2 -0.027783  0.011068 -0.025219  0.012350  0.029529  0.006157  \n",
       "3 -0.014257  0.050435  0.032841 -0.036794 -0.000256  0.033482  \n",
       "4  0.010575 -0.015148 -0.085487  0.118670  0.073392 -0.014972  \n",
       "\n",
       "[5 rows x 9841 columns]"
      ]
     },
     "execution_count": 30,
     "metadata": {},
     "output_type": "execute_result"
    }
   ],
   "source": [
    "data_file = pjoin(betas_csv_dir, f'sub-{sub}_ResponseData.h5')\n",
    "responses = pd.read_hdf(data_file)  # this may take a minute\n",
    "print('Single trial response data')\n",
    "responses.head()"
   ]
  },
  {
   "cell_type": "markdown",
   "metadata": {},
   "source": [
    "The `VoxelMetadata.csv` files contain additional information about each voxel, such as membership to ROIs, reliability measures, and noise ceilings."
   ]
  },
  {
   "cell_type": "code",
   "execution_count": 24,
   "metadata": {},
   "outputs": [
    {
     "data": {
      "text/html": [
       "<div>\n",
       "<style scoped>\n",
       "    .dataframe tbody tr th:only-of-type {\n",
       "        vertical-align: middle;\n",
       "    }\n",
       "\n",
       "    .dataframe tbody tr th {\n",
       "        vertical-align: top;\n",
       "    }\n",
       "\n",
       "    .dataframe thead th {\n",
       "        text-align: right;\n",
       "    }\n",
       "</style>\n",
       "<table border=\"1\" class=\"dataframe\">\n",
       "  <thead>\n",
       "    <tr style=\"text-align: right;\">\n",
       "      <th></th>\n",
       "      <th>voxel_id</th>\n",
       "      <th>subject_id</th>\n",
       "      <th>voxel_x</th>\n",
       "      <th>voxel_y</th>\n",
       "      <th>voxel_z</th>\n",
       "      <th>nc_singletrial</th>\n",
       "      <th>nc_testset</th>\n",
       "      <th>splithalf_uncorrected</th>\n",
       "      <th>splithalf_corrected</th>\n",
       "      <th>prf-eccentricity</th>\n",
       "      <th>...</th>\n",
       "      <th>lSTS</th>\n",
       "      <th>rSTS</th>\n",
       "      <th>lPPA</th>\n",
       "      <th>rPPA</th>\n",
       "      <th>lRSC</th>\n",
       "      <th>rRSC</th>\n",
       "      <th>lTOS</th>\n",
       "      <th>rTOS</th>\n",
       "      <th>lLOC</th>\n",
       "      <th>rLOC</th>\n",
       "    </tr>\n",
       "  </thead>\n",
       "  <tbody>\n",
       "    <tr>\n",
       "      <th>0</th>\n",
       "      <td>0</td>\n",
       "      <td>1</td>\n",
       "      <td>1</td>\n",
       "      <td>39</td>\n",
       "      <td>33</td>\n",
       "      <td>0.000000</td>\n",
       "      <td>0.000000</td>\n",
       "      <td>-0.030530</td>\n",
       "      <td>-0.062982</td>\n",
       "      <td>0.000000</td>\n",
       "      <td>...</td>\n",
       "      <td>0</td>\n",
       "      <td>0</td>\n",
       "      <td>0</td>\n",
       "      <td>0</td>\n",
       "      <td>0</td>\n",
       "      <td>0</td>\n",
       "      <td>0</td>\n",
       "      <td>0</td>\n",
       "      <td>0</td>\n",
       "      <td>0</td>\n",
       "    </tr>\n",
       "    <tr>\n",
       "      <th>1</th>\n",
       "      <td>1</td>\n",
       "      <td>1</td>\n",
       "      <td>1</td>\n",
       "      <td>39</td>\n",
       "      <td>34</td>\n",
       "      <td>1.102513</td>\n",
       "      <td>11.799193</td>\n",
       "      <td>0.070108</td>\n",
       "      <td>0.131029</td>\n",
       "      <td>4.941197</td>\n",
       "      <td>...</td>\n",
       "      <td>0</td>\n",
       "      <td>0</td>\n",
       "      <td>0</td>\n",
       "      <td>0</td>\n",
       "      <td>0</td>\n",
       "      <td>0</td>\n",
       "      <td>0</td>\n",
       "      <td>0</td>\n",
       "      <td>0</td>\n",
       "      <td>0</td>\n",
       "    </tr>\n",
       "    <tr>\n",
       "      <th>2</th>\n",
       "      <td>2</td>\n",
       "      <td>1</td>\n",
       "      <td>1</td>\n",
       "      <td>39</td>\n",
       "      <td>35</td>\n",
       "      <td>2.134454</td>\n",
       "      <td>20.743164</td>\n",
       "      <td>0.121099</td>\n",
       "      <td>0.216036</td>\n",
       "      <td>11.064742</td>\n",
       "      <td>...</td>\n",
       "      <td>0</td>\n",
       "      <td>0</td>\n",
       "      <td>0</td>\n",
       "      <td>0</td>\n",
       "      <td>0</td>\n",
       "      <td>0</td>\n",
       "      <td>0</td>\n",
       "      <td>0</td>\n",
       "      <td>0</td>\n",
       "      <td>0</td>\n",
       "    </tr>\n",
       "    <tr>\n",
       "      <th>3</th>\n",
       "      <td>3</td>\n",
       "      <td>1</td>\n",
       "      <td>1</td>\n",
       "      <td>39</td>\n",
       "      <td>36</td>\n",
       "      <td>0.000000</td>\n",
       "      <td>0.000000</td>\n",
       "      <td>-0.040901</td>\n",
       "      <td>-0.085290</td>\n",
       "      <td>0.000000</td>\n",
       "      <td>...</td>\n",
       "      <td>0</td>\n",
       "      <td>0</td>\n",
       "      <td>0</td>\n",
       "      <td>0</td>\n",
       "      <td>0</td>\n",
       "      <td>0</td>\n",
       "      <td>0</td>\n",
       "      <td>0</td>\n",
       "      <td>0</td>\n",
       "      <td>0</td>\n",
       "    </tr>\n",
       "    <tr>\n",
       "      <th>4</th>\n",
       "      <td>4</td>\n",
       "      <td>1</td>\n",
       "      <td>1</td>\n",
       "      <td>40</td>\n",
       "      <td>33</td>\n",
       "      <td>0.446367</td>\n",
       "      <td>5.105714</td>\n",
       "      <td>0.034924</td>\n",
       "      <td>0.067491</td>\n",
       "      <td>0.000000</td>\n",
       "      <td>...</td>\n",
       "      <td>0</td>\n",
       "      <td>0</td>\n",
       "      <td>0</td>\n",
       "      <td>0</td>\n",
       "      <td>0</td>\n",
       "      <td>0</td>\n",
       "      <td>0</td>\n",
       "      <td>0</td>\n",
       "      <td>0</td>\n",
       "      <td>0</td>\n",
       "    </tr>\n",
       "  </tbody>\n",
       "</table>\n",
       "<p>5 rows × 41 columns</p>\n",
       "</div>"
      ],
      "text/plain": [
       "   voxel_id  subject_id  voxel_x  voxel_y  voxel_z  nc_singletrial  \\\n",
       "0         0           1        1       39       33        0.000000   \n",
       "1         1           1        1       39       34        1.102513   \n",
       "2         2           1        1       39       35        2.134454   \n",
       "3         3           1        1       39       36        0.000000   \n",
       "4         4           1        1       40       33        0.446367   \n",
       "\n",
       "   nc_testset  splithalf_uncorrected  splithalf_corrected  prf-eccentricity  \\\n",
       "0    0.000000              -0.030530            -0.062982          0.000000   \n",
       "1   11.799193               0.070108             0.131029          4.941197   \n",
       "2   20.743164               0.121099             0.216036         11.064742   \n",
       "3    0.000000              -0.040901            -0.085290          0.000000   \n",
       "4    5.105714               0.034924             0.067491          0.000000   \n",
       "\n",
       "   ...  lSTS  rSTS  lPPA  rPPA  lRSC  rRSC  lTOS  rTOS  lLOC  rLOC  \n",
       "0  ...     0     0     0     0     0     0     0     0     0     0  \n",
       "1  ...     0     0     0     0     0     0     0     0     0     0  \n",
       "2  ...     0     0     0     0     0     0     0     0     0     0  \n",
       "3  ...     0     0     0     0     0     0     0     0     0     0  \n",
       "4  ...     0     0     0     0     0     0     0     0     0     0  \n",
       "\n",
       "[5 rows x 41 columns]"
      ]
     },
     "execution_count": 24,
     "metadata": {},
     "output_type": "execute_result"
    }
   ],
   "source": [
    "vox_f = pjoin(betas_csv_dir, f'sub-{sub}_VoxelMetadata.csv')\n",
    "voxdata = pd.read_csv(vox_f)\n",
    "voxdata.head()"
   ]
  },
  {
   "cell_type": "code",
   "execution_count": 31,
   "metadata": {},
   "outputs": [
    {
     "name": "stdout",
     "output_type": "stream",
     "text": [
      "available voxel metadata:\n",
      " ['voxel_id', 'subject_id', 'voxel_x', 'voxel_y', 'voxel_z', 'nc_singletrial', 'nc_testset', 'splithalf_uncorrected', 'splithalf_corrected', 'prf-eccentricity', 'prf-polarangle', 'prf-rsquared', 'prf-size', 'V1', 'V2', 'V3', 'hV4', 'VO1', 'VO2', 'LO1 (prf)', 'LO2 (prf)', 'TO1', 'TO2', 'V3b', 'V3a', 'lEBA', 'rEBA', 'lFFA', 'rFFA', 'lOFA', 'rOFA', 'lSTS', 'rSTS', 'lPPA', 'rPPA', 'lRSC', 'rRSC', 'lTOS', 'rTOS', 'lLOC', 'rLOC']\n"
     ]
    }
   ],
   "source": [
    "print('available voxel metadata:\\n', voxdata.columns.to_list())"
   ]
  },
  {
   "cell_type": "markdown",
   "metadata": {},
   "source": [
    "The voxel indices can be used to reconstruct a volume, e.g. for visualizing results obtained from the single trial responses. Alternatively, the brain mask can be used for that purpose (see below). Membership of each voxel to the available ROIs is dummy coded, e.g. in `voxdata[\"V1\"]` or `voxdata[\"rFFA\"]`. The population receptive field parameters are encoded in the following columns: `prf-eccentricity`, `prf-polarangle`, `prf-size`, and `prf-rsquared`. Finally, different reliability estimates are available in the columns: `nc_testset`, `nc_singletrial`, `splithalf_uncorrected`, and `splithalf_corrected`."
   ]
  },
  {
   "cell_type": "markdown",
   "metadata": {},
   "source": [
    "The `StimulusMetadata.csv` files contain information about the file name of the image shown in each trial, which run and session a given trial occured in, and the trial_type. "
   ]
  },
  {
   "cell_type": "code",
   "execution_count": 33,
   "metadata": {},
   "outputs": [
    {
     "data": {
      "text/html": [
       "<div>\n",
       "<style scoped>\n",
       "    .dataframe tbody tr th:only-of-type {\n",
       "        vertical-align: middle;\n",
       "    }\n",
       "\n",
       "    .dataframe tbody tr th {\n",
       "        vertical-align: top;\n",
       "    }\n",
       "\n",
       "    .dataframe thead th {\n",
       "        text-align: right;\n",
       "    }\n",
       "</style>\n",
       "<table border=\"1\" class=\"dataframe\">\n",
       "  <thead>\n",
       "    <tr style=\"text-align: right;\">\n",
       "      <th></th>\n",
       "      <th>trial_type</th>\n",
       "      <th>session</th>\n",
       "      <th>run</th>\n",
       "      <th>subject_id</th>\n",
       "      <th>trial_id</th>\n",
       "      <th>stimulus</th>\n",
       "    </tr>\n",
       "  </thead>\n",
       "  <tbody>\n",
       "    <tr>\n",
       "      <th>0</th>\n",
       "      <td>train</td>\n",
       "      <td>1</td>\n",
       "      <td>1</td>\n",
       "      <td>1</td>\n",
       "      <td>0</td>\n",
       "      <td>dog_12s.jpg</td>\n",
       "    </tr>\n",
       "    <tr>\n",
       "      <th>1</th>\n",
       "      <td>train</td>\n",
       "      <td>1</td>\n",
       "      <td>1</td>\n",
       "      <td>1</td>\n",
       "      <td>1</td>\n",
       "      <td>mango_12s.jpg</td>\n",
       "    </tr>\n",
       "    <tr>\n",
       "      <th>2</th>\n",
       "      <td>train</td>\n",
       "      <td>1</td>\n",
       "      <td>1</td>\n",
       "      <td>1</td>\n",
       "      <td>2</td>\n",
       "      <td>spatula_12s.jpg</td>\n",
       "    </tr>\n",
       "    <tr>\n",
       "      <th>3</th>\n",
       "      <td>test</td>\n",
       "      <td>1</td>\n",
       "      <td>1</td>\n",
       "      <td>1</td>\n",
       "      <td>3</td>\n",
       "      <td>candelabra_14s.jpg</td>\n",
       "    </tr>\n",
       "    <tr>\n",
       "      <th>4</th>\n",
       "      <td>train</td>\n",
       "      <td>1</td>\n",
       "      <td>1</td>\n",
       "      <td>1</td>\n",
       "      <td>4</td>\n",
       "      <td>panda_12s.jpg</td>\n",
       "    </tr>\n",
       "  </tbody>\n",
       "</table>\n",
       "</div>"
      ],
      "text/plain": [
       "  trial_type  session  run  subject_id  trial_id            stimulus\n",
       "0      train        1    1           1         0         dog_12s.jpg\n",
       "1      train        1    1           1         1       mango_12s.jpg\n",
       "2      train        1    1           1         2     spatula_12s.jpg\n",
       "3       test        1    1           1         3  candelabra_14s.jpg\n",
       "4      train        1    1           1         4       panda_12s.jpg"
      ]
     },
     "execution_count": 33,
     "metadata": {},
     "output_type": "execute_result"
    }
   ],
   "source": [
    "# Stimulus metadata\n",
    "stim_f = pjoin(betas_csv_dir, f'sub-{sub}_StimulusMetadata.csv')\n",
    "stimdata = pd.read_csv(stim_f)\n",
    "stimdata.head()"
   ]
  },
  {
   "cell_type": "markdown",
   "metadata": {},
   "source": [
    "> 🚨 **Trial types**\n",
    ">\n",
    "> The THINGS-fMRI experiment presented participants with three different trial types:\n",
    "> - `train`: Participants passively viewed an object image.\n",
    "> - `test`: Same as train, but these trials belonged to a set of 200 images which were presented in each session. It's main purpose is to allow for estimating the reliability of the single trial responses in a given voxel.\n",
    "> - `catch`: Participants saw a non-object image and responded with a button press. This was included to ensure participants were engaged throughout the experiment.\n",
    ">\n",
    "> Note: Catch trials are excluded from the single trial responses in table format as they are likely not of interest for most applications. However, catch trials are included in the volumetric format in order to make it possible to account for them in analyses."
   ]
  },
  {
   "cell_type": "markdown",
   "metadata": {},
   "source": [
    "### Volumetric format"
   ]
  },
  {
   "cell_type": "markdown",
   "metadata": {},
   "source": [
    "## Brain masks"
   ]
  },
  {
   "cell_type": "markdown",
   "metadata": {},
   "source": [
    "The brain masks indicate wether a given voxel is located in the brain or not (`1: brain`, `0: not brain`). They can be used e.g. to create a nifti volume from the results you obtained from the single trial responses."
   ]
  },
  {
   "cell_type": "code",
   "execution_count": 43,
   "metadata": {},
   "outputs": [
    {
     "data": {
      "text/plain": [
       "(211339,)"
      ]
     },
     "execution_count": 43,
     "metadata": {},
     "output_type": "execute_result"
    }
   ],
   "source": [
    "# Say you have used the single trial responses above to produce results.\n",
    "# Say your results are an array of n elements, where n is the number of voxels within the brain.\n",
    "results = np.random.randn(responses.shape[0])\n",
    "results.shape"
   ]
  },
  {
   "cell_type": "code",
   "execution_count": 62,
   "metadata": {},
   "outputs": [
    {
     "data": {
      "image/png": "[encoded data removed]",
      "text/plain": [
       "<Figure size 475.2x187.2 with 4 Axes>"
      ]
     },
     "metadata": {},
     "output_type": "display_data"
    }
   ],
   "source": [
    "# you can easily use nilearn's masking functions to transform them \n",
    "# to an image object and save it as a nifti file\n",
    "\n",
    "# This is the provided brain mask\n",
    "bmask_dir = pjoin(basedir, 'brainmasks')\n",
    "bmask_f = pjoin(bmask_dir, f'sub-{sub}_space-T1w_brainmask.nii.gz')\n",
    "\n",
    "# use the brain mask to turn your results array into a 3D image\n",
    "results_img = unmask(results, bmask_f)\n",
    "# plot the image to verify\n",
    "plot_epi(results_img, black_bg=False, title='Brainmask example', cmap='RdBu_r')\n",
    "# and save it as an nifti file\n",
    "results_img.to_filename('results.nii.gz')"
   ]
  },
  {
   "cell_type": "markdown",
   "metadata": {},
   "source": [
    "> 🚨 **Co-registration and volumetric space**\n",
    ">\n",
    "> The THINGS-fMRI data was preprocessed with [fmriprep](https://fmriprep.org/en/stable/), which includes co-registration of all functional images to a high-resolution anatomical MRI image. In other words, all functional data for a given subject (including the brain masks aind regions of interest) was transformed into a common \"space\", meaning that a given voxel always points to the same location in the brain - with some level of imperfection.\n",
    "> Of course, it's possible to analyze the data in a different space (e.g. MNI) by downloading the raw data and preprocessing it according to your needs."
   ]
  },
  {
   "cell_type": "markdown",
   "metadata": {},
   "source": [
    "## ICA noise regressors"
   ]
  },
  {
   "cell_type": "markdown",
   "metadata": {},
   "source": [
    "## Regions of interest"
   ]
  },
  {
   "cell_type": "markdown",
   "metadata": {},
   "source": [
    "## Cortical flat maps"
   ]
  }
 ],
 "metadata": {
  "kernelspec": {
   "display_name": "Python 3",
   "language": "python",
   "name": "python3"
  },
  "language_info": {
   "codemirror_mode": {
    "name": "ipython",
    "version": 3
   },
   "file_extension": ".py",
   "mimetype": "text/x-python",
   "name": "python",
   "nbconvert_exporter": "python",
   "pygments_lexer": "ipython3",
   "version": "3.8.5"
  }
 },
 "nbformat": 4,
 "nbformat_minor": 4
}
